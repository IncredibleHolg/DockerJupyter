{
 "cells": [
  {
   "cell_type": "markdown",
   "metadata": {},
   "source": [
    "# Explore Minecraft MCA files"
   ]
  },
  {
   "cell_type": "markdown",
   "metadata": {},
   "source": [
    "## calculate the mca name"
   ]
  },
  {
   "cell_type": "code",
   "execution_count": 58,
   "metadata": {},
   "outputs": [
    {
     "name": "stdout",
     "output_type": "stream",
     "text": [
      "mc koordinates x/y -1 -1\n",
      "Filename: r.-1.-1.mca\n"
     ]
    }
   ],
   "source": [
    "import math\n",
    "block2file=16*32\n",
    "x=-360\n",
    "y=-500\n",
    "mc_koords=(math.floor(x/block2file),math.floor(y/block2file))\n",
    "print (\"mc koordinates x/y {0} {1}\".format(*mc_koords))\n",
    "filename=\"r.{0}.{1}.mca\".format(*mc_koords)\n",
    "print (\"Filename: {}\".format(filename))"
   ]
  },
  {
   "cell_type": "code",
   "execution_count": 59,
   "metadata": {},
   "outputs": [],
   "source": [
    "file=open(filename,'rb')\n",
    "data=file.read()"
   ]
  },
  {
   "cell_type": "markdown",
   "metadata": {},
   "source": [
    "## Structure\n",
    "\n",
    "Region files begin with an 8kiB header containing information about which chunks are present in the region file, when they were last updated, and where they can be found. The location in the region file of a chunk at (x, z) (in chunk coordinates) can be found at byte offset 4 * ((x mod 32) + (z mod 32) * 32) in its region file. \n",
    "\n",
    "In case the values of x mod 32 or z mod 32 are negative (which happens when using % operator in Java/C/C++), simply add 32. Or you can replace mod with & (AND operator). Offset calculation will look like this: 4 * ((x & 31) + (z & 31) * 32).\n",
    "\n",
    "Its timestamp can be found 4096 bytes later in the file. \n",
    "\n",
    "The remainder of the file consists of data for up to 1024 chunks, interspersed with unused space.\n",
    "\n",
    "\n",
    "|byte|0 - 4095|4096 - 8191|8192...|\n",
    "|----|:--------|:-----------|:-------|\n",
    "|description|locations (1024 entries)|timestamps (1024 entries)|chunks and unused space|\n",
    "\n",
    "\n",
    "\n"
   ]
  }
 ],
 "metadata": {
  "kernelspec": {
   "display_name": "Python 3",
   "language": "python",
   "name": "python3"
  },
  "language_info": {
   "codemirror_mode": {
    "name": "ipython",
    "version": 3
   },
   "file_extension": ".py",
   "mimetype": "text/x-python",
   "name": "python",
   "nbconvert_exporter": "python",
   "pygments_lexer": "ipython3",
   "version": "3.6.8"
  }
 },
 "nbformat": 4,
 "nbformat_minor": 2
}
